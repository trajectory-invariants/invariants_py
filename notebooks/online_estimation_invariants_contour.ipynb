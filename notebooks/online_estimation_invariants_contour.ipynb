{
 "cells": [
  {
   "cell_type": "markdown",
   "id": "361d2ef4",
   "metadata": {},
   "source": [
    "# Online estimation of curvature and torsion for a contour following task\n",
    "\n",
    "\n",
    "This notebook aims to provide an example of calculating invariant shape descriptors for the application of contour following. \n",
    "\n",
    "The estimated invariants can be used to estimate *the progress* along the trajectory, and serve as *feedforward in the robot controller*. "
   ]
  },
  {
   "cell_type": "code",
   "execution_count": 1,
   "id": "e1a22b02",
   "metadata": {
    "execution": {
     "iopub.execute_input": "2024-04-25T14:26:35.775726Z",
     "iopub.status.busy": "2024-04-25T14:26:35.775239Z",
     "iopub.status.idle": "2024-04-25T14:26:36.451941Z",
     "shell.execute_reply": "2024-04-25T14:26:36.451123Z"
    }
   },
   "outputs": [],
   "source": [
    "import numpy as np\n",
    "import matplotlib.pyplot as plt\n",
    "import invariants_py.reparameterization as reparam\n",
    "import scipy.interpolate as ip\n",
    "from invariants_py.opti_calculate_vector_invariants_position_mf import OCP_calc_pos\n",
    "from IPython.display import clear_output\n",
    "import invariants_py.data_handler as dh\n"
   ]
  },
  {
   "cell_type": "markdown",
   "id": "05fce432",
   "metadata": {},
   "source": [
    "### Load example contour data and reparameterize to arclength\n"
   ]
  },
  {
   "cell_type": "code",
   "execution_count": 2,
   "id": "7aaa65fe",
   "metadata": {
    "execution": {
     "iopub.execute_input": "2024-04-25T14:26:36.455315Z",
     "iopub.status.busy": "2024-04-25T14:26:36.454930Z",
     "iopub.status.idle": "2024-04-25T14:26:36.460200Z",
     "shell.execute_reply": "2024-04-25T14:26:36.459462Z"
    }
   },
   "outputs": [],
   "source": [
    "data_location = dh.find_data_path('contour_coordinates.out')\n",
    "position_data = np.loadtxt(data_location, dtype='float')\n",
    "trajectory,time_profile,arclength,nb_samples,stepsize = reparam.reparameterize_positiontrajectory_arclength(position_data)\n",
    "stepsize_orig = stepsize\n",
    "arclength_n = arclength/arclength[-1]\n"
   ]
  },
  {
   "cell_type": "markdown",
   "id": "a56b4b5e",
   "metadata": {},
   "source": [
    "Visualization of contour profile"
   ]
  },
  {
   "cell_type": "code",
   "execution_count": 3,
   "id": "a9953a0c",
   "metadata": {
    "execution": {
     "iopub.execute_input": "2024-04-25T14:26:36.462712Z",
     "iopub.status.busy": "2024-04-25T14:26:36.462368Z",
     "iopub.status.idle": "2024-04-25T14:26:36.480839Z",
     "shell.execute_reply": "2024-04-25T14:26:36.480085Z"
    }
   },
   "outputs": [
    {
     "data": {
      "text/plain": [
       "[<matplotlib.lines.Line2D at 0x7f02ca67a170>]"
      ]
     },
     "execution_count": 3,
     "metadata": {},
     "output_type": "execute_result"
    }
   ],
   "source": [
    "plt.figure(figsize=(8,3))\n",
    "plt.axis('equal')\n",
    "plt.plot(trajectory[:,0],trajectory[:,1],'.-')"
   ]
  },
  {
   "cell_type": "markdown",
   "id": "f02c2fac",
   "metadata": {},
   "source": [
    "### Calculate global curvature and torsion for global trajectory to later compare with\n",
    "\n",
    "Two steps:\n",
    "1. first specify optimization problem symbolically\n",
    "2. calculate invariants given measured trajectory\n",
    "\n",
    "The optimization problem **can be re-used later** for different measurements (provided they are the same size)"
   ]
  },
  {
   "cell_type": "code",
   "execution_count": 4,
   "id": "b645a753",
   "metadata": {
    "execution": {
     "iopub.execute_input": "2024-04-25T14:26:36.483390Z",
     "iopub.status.busy": "2024-04-25T14:26:36.483049Z",
     "iopub.status.idle": "2024-04-25T14:26:37.863022Z",
     "shell.execute_reply": "2024-04-25T14:26:37.862218Z"
    }
   },
   "outputs": [
    {
     "name": "stdout",
     "output_type": "stream",
     "text": [
      "\n",
      "******************************************************************************\n",
      "This program contains Ipopt, a library for large-scale nonlinear optimization.\n",
      " Ipopt is released as open source code under the Eclipse Public License (EPL).\n",
      "         For more information visit https://github.com/coin-or/Ipopt\n",
      "******************************************************************************\n",
      "\n",
      "This is Ipopt version 3.14.11, running with linear solver MUMPS 5.4.1.\n",
      "\n",
      "Number of nonzeros in equality constraint Jacobian...:     5253\n",
      "Number of nonzeros in inequality constraint Jacobian.:      134\n",
      "Number of nonzeros in Lagrangian Hessian.............:     2631\n",
      "\n",
      "Total number of variables............................:     1017\n",
      "                     variables with only lower bounds:        0\n",
      "                variables with lower and upper bounds:        0\n",
      "                     variables with only upper bounds:        0\n",
      "Total number of equality constraints.................:      810\n",
      "Total number of inequality constraints...............:      134\n",
      "        inequality constraints with only lower bounds:      134\n",
      "   inequality constraints with lower and upper bounds:        0\n",
      "        inequality constraints with only upper bounds:        0\n",
      "\n",
      "iter    objective    inf_pr   inf_du lg(mu)  ||d||  lg(rg) alpha_du alpha_pr  ls\n",
      "   0  1.3400000e-27 3.88e-01 5.01e-01  -1.0 0.00e+00    -  0.00e+00 0.00e+00   0\n",
      "   1  9.1686037e+02 2.28e-03 2.00e+10  -1.7 2.00e+00  10.0 9.35e-01 1.00e+00h  1\n",
      "   2  1.0305273e+03 9.86e-07 9.02e+08  -1.7 3.38e-02  10.4 1.00e+00 1.00e+00h  1\n",
      "   3  1.0305269e+03 2.81e-13 1.26e+04  -1.7 1.41e-06   9.9 1.00e+00 1.00e+00h  1\n",
      "   4  1.0305269e+03 2.58e-14 1.64e+01  -1.7 5.53e-09   9.5 1.00e+00 1.00e+00f  1\n",
      "   5  1.0305269e+03 2.09e-14 1.64e+01  -1.7 1.66e-08   9.0 1.00e+00 1.00e+00f  1\n",
      "   6  1.0305269e+03 2.60e-14 1.64e+01  -1.7 4.98e-08   8.5 1.00e+00 1.00e+00f  1\n",
      "   7  1.0305267e+03 2.59e-14 1.64e+01  -1.7 1.49e-07   8.0 1.00e+00 1.00e+00f  1\n",
      "   8  1.0305262e+03 2.49e-14 1.64e+01  -1.7 4.48e-07   7.6 1.00e+00 1.00e+00f  1\n",
      "   9  1.0305247e+03 2.51e-14 1.64e+01  -1.7 1.34e-06   7.1 1.00e+00 1.00e+00f  1\n",
      "iter    objective    inf_pr   inf_du lg(mu)  ||d||  lg(rg) alpha_du alpha_pr  ls\n",
      "  10  1.0305203e+03 1.59e-13 1.64e+01  -1.7 4.03e-06   6.6 1.00e+00 1.00e+00f  1\n",
      "  11  1.0305071e+03 1.43e-12 1.64e+01  -1.7 1.21e-05   6.1 1.00e+00 1.00e+00f  1\n",
      "  12  1.0304675e+03 1.28e-11 1.64e+01  -1.7 3.63e-05   5.7 1.00e+00 1.00e+00f  1\n"
     ]
    },
    {
     "name": "stdout",
     "output_type": "stream",
     "text": [
      "  13  1.0303485e+03 1.15e-10 1.64e+01  -1.7 1.09e-04   5.2 1.00e+00 1.00e+00f  1\n",
      "  14  1.0299918e+03 1.03e-09 1.64e+01  -1.7 3.27e-04   4.7 1.00e+00 1.00e+00f  1\n",
      "  15  1.0289226e+03 9.06e-09 1.64e+01  -1.7 9.79e-04   4.2 1.00e+00 1.00e+00f  1\n",
      "  16  1.0257242e+03 7.71e-08 1.63e+01  -1.7 2.93e-03   3.7 1.00e+00 1.00e+00f  1\n",
      "  17  1.0162109e+03 6.16e-07 1.63e+01  -1.7 8.75e-03   3.3 1.00e+00 1.00e+00f  1\n",
      "  18  9.8839095e+02 4.68e-06 1.60e+01  -1.7 2.59e-02   2.8 1.00e+00 1.00e+00f  1\n",
      "  19  9.1098888e+02 3.47e-05 1.54e+01  -1.7 7.43e-02   2.3 1.00e+00 1.00e+00f  1\n",
      "iter    objective    inf_pr   inf_du lg(mu)  ||d||  lg(rg) alpha_du alpha_pr  ls\n",
      "  20  7.2375087e+02 2.24e-04 1.36e+01  -1.7 1.97e-01   1.8 1.00e+00 1.00e+00f  1\n",
      "  21  4.0537139e+02 8.51e-04 1.62e+01  -1.7 4.27e-01   1.4 1.00e+00 1.00e+00f  1\n",
      "  22  2.3912107e+02 5.26e-04 9.97e+00  -1.7 6.26e-01   0.9 1.00e+00 5.38e-01f  1\n",
      "  23  2.2809649e+02 5.03e-04 9.50e+00  -1.7 8.11e-01   0.4 1.00e+00 4.67e-02f  1\n",
      "  24  1.9625595e+02 4.68e-04 8.13e+00  -1.7 1.35e+00  -0.1 1.00e+00 1.59e-01f  1\n",
      "  25  1.7892476e+02 9.39e-04 7.08e+00  -1.7 2.03e+00  -0.5 1.00e+00 1.58e-01f  1\n",
      "  26  1.7038871e+02 6.35e-03 5.84e+00  -1.7 2.66e+00  -1.0 6.11e-01 1.66e-01f  1\n",
      "  27  1.6504894e+02 6.61e-03 4.10e+00  -1.7 1.15e+00  -0.6 1.00e+00 2.55e-01f  1\n",
      "  28  1.6110105e+02 1.62e-02 2.08e+00  -1.7 1.39e+00  -1.1 8.83e-01 3.33e-01f  1\n",
      "  29  1.5595703e+02 4.51e-02 3.95e+00  -1.7 2.29e-01  -0.7 1.00e+00 1.00e+00f  1\n",
      "iter    objective    inf_pr   inf_du lg(mu)  ||d||  lg(rg) alpha_du alpha_pr  ls\n",
      "  30  1.5557593e+02 1.19e-01 7.09e-01  -1.7 3.35e-01  -1.1 8.31e-01 1.00e+00f  1\n",
      "  31  1.5517517e+02 2.03e-01 6.25e-01  -1.7 1.16e+00  -1.6 1.00e+00 1.00e+00f  1\n",
      "  32  1.5469563e+02 8.69e-02 1.93e-01  -1.7 3.02e-01  -1.2 1.00e+00 1.00e+00f  1\n",
      "  33  1.5355932e+02 7.18e-03 2.64e-02  -2.5 8.29e-02  -0.8 1.00e+00 1.00e+00f  1\n",
      "  34  1.5339148e+02 5.29e-04 1.54e-02  -3.8 3.13e-02  -0.3 9.98e-01 1.00e+00h  1\n",
      "  35  1.5327716e+02 6.90e-03 1.38e-01  -3.8 1.19e-01  -0.8 6.82e-01 1.00e+00f  1\n",
      "  36  1.5315923e+02 1.21e-03 1.40e-01  -3.8 6.04e-02  -0.4 5.97e-01 1.00e+00h  1\n",
      "  37  1.4996043e+02 3.77e-02 2.06e+00  -3.8 1.44e+00  -0.9 1.03e-01 1.00e+00F  1\n",
      "  38  1.5067084e+02 2.10e-03 2.40e+00  -3.8 6.16e-01  -0.4 1.18e-01 7.77e-01h  1\n",
      "  39  1.5009791e+02 3.49e-03 2.72e+00  -3.8 3.98e+01  -0.9 1.98e-03 7.34e-03f  1\n",
      "iter    objective    inf_pr   inf_du lg(mu)  ||d||  lg(rg) alpha_du alpha_pr  ls\n",
      "  40  1.4987947e+02 3.42e-03 2.56e+00  -3.8 1.19e+00  -0.5 5.54e-02 5.22e-02f  1\n",
      "  41  1.4949649e+02 2.91e-03 2.44e+00  -3.8 4.22e-01  -0.1 7.28e-02 2.01e-01f  1\n",
      "  42  1.4864984e+02 4.00e-03 2.63e+00  -3.8 2.98e+00  -0.5 1.96e-02 6.75e-02f  1\n",
      "  43  1.4818343e+02 3.75e-03 2.51e+00  -3.8 6.55e-01  -0.1 5.99e-02 9.96e-02f  1\n",
      "  44  1.4673196e+02 6.22e-03 2.85e+00  -3.8 6.74e+01  -0.6 6.77e-04 3.22e-03f  1\n"
     ]
    },
    {
     "name": "stdout",
     "output_type": "stream",
     "text": [
      "  45  1.4658068e+02 6.15e-03 2.66e+00  -3.8 1.03e+00  -0.2 4.92e-02 1.21e-02f  1\n",
      "  46  1.4647467e+02 6.03e-03 2.53e+00  -3.8 3.67e-01   0.3 4.90e-02 2.00e-02f  1\n",
      "  47  1.4522977e+02 6.29e-03 2.61e+00  -3.8 1.83e+00  -0.2 1.07e-02 5.37e-02f  1\n",
      "  48  1.4448370e+02 5.78e-03 2.47e+00  -3.8 4.56e-01   0.2 5.50e-02 9.44e-02f  1\n",
      "  49  1.4361410e+02 5.92e-03 2.48e+00  -3.8 3.29e+00  -0.3 8.12e-03 1.48e-02f  1\n",
      "iter    objective    inf_pr   inf_du lg(mu)  ||d||  lg(rg) alpha_du alpha_pr  ls\n",
      "  50  1.4168336e+02 5.47e-03 2.38e+00  -3.8 5.51e-01   0.2 4.63e-02 1.76e-01f  1\n",
      "  51  1.3996837e+02 6.17e-03 2.43e+00  -3.8 6.19e+00  -0.3 6.89e-03 1.32e-02f  1\n",
      "  52  1.3945634e+02 6.02e-03 2.29e+00  -3.8 6.55e-01   0.1 5.44e-02 2.95e-02f  1\n",
      "  53  1.3686434e+02 7.62e-03 2.42e+00  -3.8 2.47e+01  -0.4 8.70e-04 4.45e-03f  1\n",
      "  54  1.3582055e+02 7.41e-03 2.31e+00  -3.8 7.82e-01   0.1 4.55e-02 4.46e-02f  1\n",
      "  55  1.3270579e+02 9.37e-03 2.42e+00  -3.8 2.81e+01  -0.4 1.47e-03 4.57e-03f  1\n",
      "  56  1.3219743e+02 9.25e-03 2.32e+00  -3.8 9.13e-01   0.0 4.10e-02 1.60e-02f  1\n",
      "  57  1.3163371e+02 9.30e-03 2.32e+00  -3.8 3.49e+01  -0.5 1.44e-03 6.01e-04f  1\n",
      "  58  1.2635396e+02 1.16e-02 2.24e+00  -3.8 1.01e+00  -0.0 1.52e-02 1.57e-01f  1\n",
      "  59  1.2473387e+02 1.19e-02 2.21e+00  -3.8 8.89e+00  -0.5 8.94e-03 6.35e-03f  1\n",
      "iter    objective    inf_pr   inf_du lg(mu)  ||d||  lg(rg) alpha_du alpha_pr  ls\n",
      "  60  1.2311045e+02 1.17e-02 2.15e+00  -3.8 1.05e+00  -0.1 3.78e-02 3.92e-02f  1\n",
      "  61  1.2103069e+02 1.23e-02 2.15e+00  -3.8 1.08e+01  -0.6 7.17e-03 6.87e-03f  1\n",
      "  62  1.1760203e+02 1.26e-02 2.04e+00  -3.8 1.17e+00  -0.1 3.68e-02 7.64e-02f  1\n",
      "  63  1.1498012e+02 1.35e-02 2.02e+00  -3.8 6.65e+00  -0.6 1.40e-02 1.44e-02f  1\n",
      "  64  1.1373480e+02 1.33e-02 1.98e+00  -3.8 1.22e+00  -0.2 4.21e-02 2.81e-02f  1\n",
      "  65  1.0827491e+02 1.88e-02 1.93e+00  -3.8 6.11e+00  -0.7 1.03e-02 3.62e-02f  1\n",
      "  66  1.0247867e+02 1.99e-02 1.68e+00  -3.8 1.21e+00  -0.2 3.71e-02 1.65e-01f  1\n",
      "  67  1.0148768e+02 1.98e-02 1.65e+00  -3.8 2.49e+00  -0.7 3.79e-02 1.66e-02f  1\n",
      "  68  1.0121656e+02 1.96e-02 1.64e+00  -3.8 1.12e+00  -0.3 6.01e-02 9.08e-03f  1\n",
      "  69  9.5319853e+01 2.78e-02 1.46e+00  -3.8 2.47e+00  -0.8 3.06e-02 1.16e-01f  1\n",
      "iter    objective    inf_pr   inf_du lg(mu)  ||d||  lg(rg) alpha_du alpha_pr  ls\n",
      "  70  9.4252381e+01 2.66e-02 1.40e+00  -3.8 1.01e+00  -0.3 9.07e-02 5.00e-02f  1\n",
      "  71  9.2000211e+01 2.61e-02 1.30e+00  -3.8 2.05e+00  -0.8 5.44e-02 7.19e-02f  1\n",
      "  72  9.1272693e+01 2.50e-02 1.25e+00  -3.8 1.18e+00  -0.4 1.08e-01 4.34e-02f  1\n",
      "  73  8.8965535e+01 2.46e-02 1.14e+00  -3.8 1.88e+00  -0.9 4.74e-02 9.27e-02f  1\n",
      "  74  8.8801789e+01 2.43e-02 1.12e+00  -3.8 4.24e-01  -0.4 1.01e-01 1.39e-02f  1\n",
      "  75  8.2078034e+01 1.53e-01 4.94e+00  -3.8 1.92e+00  -0.9 5.24e-02 5.21e-01f  1\n",
      "  76  7.6087651e+01 1.84e-02 1.89e+00  -3.8 3.91e-01  -0.5 3.40e-01 1.00e+00f  1\n",
      "  77  7.4936929e+01 2.06e-03 4.56e-01  -3.8 1.69e-01  -0.1 2.19e-01 9.98e-01f  1\n",
      "  78  7.1085348e+01 7.48e-02 1.49e+00  -3.8 9.98e-01  -0.5 3.89e-02 1.00e+00f  1\n",
      "  79  6.4822621e+01 1.71e-02 1.10e+00  -3.8 4.24e-01  -0.1 1.26e-01 1.00e+00f  1\n",
      "iter    objective    inf_pr   inf_du lg(mu)  ||d||  lg(rg) alpha_du alpha_pr  ls\n",
      "  80  5.3502780e+01 3.99e-01 7.84e+00  -3.8 1.92e+00  -0.6 5.35e-02 1.00e+00f  1\n",
      "  81  2.7352969e+01 5.05e-01 2.68e+01  -3.8 3.31e+00  -1.1 8.73e-02 1.00e+00f  1\n",
      "  82  1.2031426e+01 4.24e-02 3.78e+00  -3.8 6.74e-01  -0.7 1.62e-01 1.00e+00f  1\n",
      "  83  6.9670377e+00 1.52e-02 8.48e-01  -3.8 1.25e+00  -1.1 1.41e-01 1.00e+00f  1\n",
      "  84  4.2356851e+00 1.19e-02 1.34e+00  -3.8 1.89e+00  -1.6 1.82e-01 1.00e+00f  1\n",
      "  85  2.6771963e+00 1.84e-03 1.61e-01  -3.8 1.57e+00  -2.1 3.30e-01 1.00e+00f  1\n"
     ]
    },
    {
     "name": "stdout",
     "output_type": "stream",
     "text": [
      "  86  1.9456037e+00 4.46e-03 1.06e-01  -3.8 2.99e+00  -2.6 3.69e-01 3.90e-01f  1\n",
      "  87  1.4457337e+00 4.86e-03 1.02e-01  -3.8 5.76e+00  -3.0 2.66e-01 2.25e-01f  1\n",
      "  88  6.2823596e-01 4.44e-02 1.17e-01  -3.8 1.68e+01  -3.5 1.60e-01 4.70e-01f  1\n",
      "  89  2.3981462e-01 2.18e-02 8.69e-02  -3.8 8.54e+00  -4.0 5.60e-01 5.38e-01f  1\n",
      "iter    objective    inf_pr   inf_du lg(mu)  ||d||  lg(rg) alpha_du alpha_pr  ls\n",
      "  90  1.5298103e-01 2.17e-02 7.31e-02  -3.8 2.90e+01    -  2.26e-01 3.24e-01f  1\n",
      "  91  9.6251610e-02 1.14e-02 4.46e-02  -3.8 1.12e+01    -  1.00e+00 4.49e-01h  1\n",
      "  92  6.4574011e-02 3.05e-03 2.54e-02  -3.8 4.67e+00    -  1.00e+00 9.51e-01h  1\n",
      "  93  6.4101652e-02 5.77e-04 1.43e-03  -3.8 2.22e+00    -  1.00e+00 1.00e+00f  1\n",
      "  94  6.2723634e-02 1.24e-03 2.34e-04  -5.0 1.73e+00    -  8.15e-01 1.00e+00h  1\n",
      "  95  6.2362963e-02 1.60e-04 2.05e-05  -5.0 1.05e+00    -  1.00e+00 1.00e+00h  1\n",
      "  96  6.2264328e-02 2.66e-05 4.95e-06  -5.0 4.01e-01    -  1.00e+00 1.00e+00h  1\n",
      "\n",
      "Number of Iterations....: 96\n",
      "\n",
      "                                   (scaled)                 (unscaled)\n",
      "Objective...............:   6.2264327802593611e-02    6.2264327802593611e-02\n",
      "Dual infeasibility......:   4.9498952639096398e-06    4.9498952639096398e-06\n",
      "Constraint violation....:   2.6646851959410967e-05    2.6646851959410967e-05\n",
      "Variable bound violation:   0.0000000000000000e+00    0.0000000000000000e+00\n",
      "Complementarity.........:   1.4609127770902249e-05    1.4609127770902249e-05\n",
      "Overall NLP error.......:   2.6646851959410967e-05    2.6646851959410967e-05\n",
      "\n",
      "\n",
      "Number of objective function evaluations             = 98\n",
      "Number of objective gradient evaluations             = 97\n",
      "Number of equality constraint evaluations            = 98\n",
      "Number of inequality constraint evaluations          = 98\n",
      "Number of equality constraint Jacobian evaluations   = 97\n",
      "Number of inequality constraint Jacobian evaluations = 97\n",
      "Number of Lagrangian Hessian evaluations             = 96\n",
      "Total seconds in IPOPT                               = 0.742\n",
      "\n",
      "EXIT: Optimal Solution Found.\n",
      "      solver  :   t_proc      (avg)   t_wall      (avg)    n_eval\n",
      "       nlp_f  |   7.16ms ( 73.04us)   1.57ms ( 16.04us)        98\n",
      "       nlp_g  |  19.62ms (200.16us)   5.64ms ( 57.58us)        98\n",
      "  nlp_grad_f  |  10.81ms (110.30us)   2.22ms ( 22.69us)        98\n",
      "  nlp_hess_l  | 113.49ms (  1.18ms)  31.32ms (326.26us)        96\n",
      "   nlp_jac_g  |  46.25ms (471.98us)  12.10ms (123.45us)        98\n",
      "       total  |   3.51 s (  3.51 s) 742.20ms (742.20ms)         1\n"
     ]
    }
   ],
   "source": [
    "# specify optimization problem symbolically\n",
    "FS_calculation_problem = OCP_calc_pos(window_len=nb_samples, \n",
    "                                           bool_unsigned_invariants = True, w_pos = 100, \n",
    "                                           w_deriv = (10**-12)*np.array([1.0, 1.0, 1.0]), \n",
    "                                           w_abs = (10**-5)*np.array([1.0, 1.0]))\n",
    "\n",
    "# calculate invariants given measurements\n",
    "invariants, calculate_trajectory, movingframes = FS_calculation_problem.calculate_invariants_global(trajectory,stepsize)\n"
   ]
  },
  {
   "cell_type": "markdown",
   "id": "daeb9875",
   "metadata": {},
   "source": [
    "Visualize calculated invariants and corresponding trajectory"
   ]
  },
  {
   "cell_type": "code",
   "execution_count": 5,
   "id": "e9451f8c",
   "metadata": {
    "execution": {
     "iopub.execute_input": "2024-04-25T14:26:37.865632Z",
     "iopub.status.busy": "2024-04-25T14:26:37.865248Z",
     "iopub.status.idle": "2024-04-25T14:26:37.913879Z",
     "shell.execute_reply": "2024-04-25T14:26:37.913048Z"
    }
   },
   "outputs": [
    {
     "data": {
      "text/plain": [
       "Text(0.5, 0, 's [-]')"
      ]
     },
     "execution_count": 5,
     "metadata": {},
     "output_type": "execute_result"
    }
   ],
   "source": [
    "plt.figure(figsize=(8,3))\n",
    "plt.axis('equal')\n",
    "plt.plot(trajectory[:,0],trajectory[:,1],'.-')\n",
    "plt.plot(calculate_trajectory[:,0],calculate_trajectory[:,1],'.-')\n",
    "\n",
    "f, (ax1, ax2, ax3) = plt.subplots(1, 3, sharey=True, figsize=(8,3))\n",
    "ax1.plot(arclength_n,invariants[:,0])\n",
    "ax1.set_title('Velocity [m/-]')\n",
    "ax1.set_xlabel('s [-]')\n",
    "ax2.plot(arclength_n,invariants[:,1])\n",
    "ax2.set_title('Curvature [rad/-]')\n",
    "ax2.set_xlabel('s [-]')\n",
    "ax3.plot(arclength_n,invariants[:,2])\n",
    "ax3.set_title('Torsion [rad/-]')\n",
    "ax3.set_xlabel('s [-]')\n",
    "\n"
   ]
  },
  {
   "cell_type": "markdown",
   "id": "f5cb3da3",
   "metadata": {},
   "source": [
    "## Simulation of online measurements\n",
    "\n",
    "The purpose is to test the online calculation separate from a real application."
   ]
  },
  {
   "cell_type": "code",
   "execution_count": 6,
   "id": "ba977be9",
   "metadata": {
    "execution": {
     "iopub.execute_input": "2024-04-25T14:26:37.916455Z",
     "iopub.status.busy": "2024-04-25T14:26:37.916085Z",
     "iopub.status.idle": "2024-04-25T14:26:37.920386Z",
     "shell.execute_reply": "2024-04-25T14:26:37.919672Z"
    }
   },
   "outputs": [],
   "source": [
    "# Generate noisy measurements in a specified window\n",
    "def simulate_noisy_measurements(model_trajectory, current_progress, stepsize, online_window_len):\n",
    "    \n",
    "    noise_std = 0.001\n",
    "    \n",
    "    progress_values = np.linspace(current_progress, current_progress-online_window_len*stepsize, online_window_len )\n",
    "    noisy_measurements = np.array([model_trajectory(i) for i in progress_values]) \n",
    "\n",
    "    return noisy_measurements + np.random.randn(online_window_len,3)*noise_std\n"
   ]
  },
  {
   "cell_type": "markdown",
   "id": "4498afb4",
   "metadata": {},
   "source": [
    "### Test the generation of noisy measurements"
   ]
  },
  {
   "cell_type": "code",
   "execution_count": 7,
   "id": "43dca1f3",
   "metadata": {
    "execution": {
     "iopub.execute_input": "2024-04-25T14:26:37.922727Z",
     "iopub.status.busy": "2024-04-25T14:26:37.922431Z",
     "iopub.status.idle": "2024-04-25T14:26:37.942213Z",
     "shell.execute_reply": "2024-04-25T14:26:37.941409Z"
    }
   },
   "outputs": [
    {
     "data": {
      "text/plain": [
       "[<matplotlib.lines.Line2D at 0x7f02c13b1810>]"
      ]
     },
     "execution_count": 7,
     "metadata": {},
     "output_type": "execute_result"
    }
   ],
   "source": [
    "# Parameterize the input trajectory as a spline\n",
    "knots = np.concatenate(([arclength[0]],[arclength[0]],arclength,[arclength[-1]],[arclength[-1]]))\n",
    "degree = 3\n",
    "spline_model_trajectory = ip.BSpline(knots,trajectory,degree)\n",
    "\n",
    "# Generate noisy measurements\n",
    "test_measurements = simulate_noisy_measurements(spline_model_trajectory,\n",
    "                                                current_progress=0.8,stepsize=0.005,online_window_len=20)\n",
    "\n",
    "# Visualization of noisy measurements on trajectory\n",
    "plt.figure(figsize=(8,3))\n",
    "plt.axis('equal')\n",
    "plt.plot(trajectory[:,0],trajectory[:,1],'.-')\n",
    "plt.plot(test_measurements[:,0],test_measurements[:,1],'k.-')\n",
    "\n"
   ]
  },
  {
   "cell_type": "markdown",
   "id": "56164007",
   "metadata": {},
   "source": [
    "## Online estimation of curvature and torsion\n",
    "\n",
    "Estimate invariants with a receding window approach\n",
    "\n",
    "1. Specify optimization problem once\n",
    "2. Re-use the same specification during on-line estimation"
   ]
  },
  {
   "cell_type": "code",
   "execution_count": 8,
   "id": "5b677b07",
   "metadata": {
    "execution": {
     "iopub.execute_input": "2024-04-25T14:26:37.944851Z",
     "iopub.status.busy": "2024-04-25T14:26:37.944529Z",
     "iopub.status.idle": "2024-04-25T14:26:37.966316Z",
     "shell.execute_reply": "2024-04-25T14:26:37.965424Z"
    }
   },
   "outputs": [],
   "source": [
    "# specify optimization problem symbolically\n",
    "window_len = 20\n",
    "stepsize = 0.005\n",
    "window_increment = 10\n",
    "FS_online_calculation_problem = OCP_calc_pos(window_len=window_len,\n",
    "                                                  bool_unsigned_invariants = True, \n",
    "                                                  w_pos = 50, w_deriv = (10**-7)*np.array([1.0, 1.0, 1.0]), \n",
    "                                                  w_abs = (10**-6)*np.array([1.0, 1.0]))\n"
   ]
  },
  {
   "cell_type": "code",
   "execution_count": 9,
   "id": "26dde107",
   "metadata": {
    "execution": {
     "iopub.execute_input": "2024-04-25T14:26:37.968967Z",
     "iopub.status.busy": "2024-04-25T14:26:37.968632Z",
     "iopub.status.idle": "2024-04-25T14:26:40.110628Z",
     "shell.execute_reply": "2024-04-25T14:26:40.109756Z"
    }
   },
   "outputs": [
    {
     "name": "stdout",
     "output_type": "stream",
     "text": [
      "This is Ipopt version 3.14.11, running with linear solver MUMPS 5.4.1.\n",
      "\n",
      "Number of nonzeros in equality constraint Jacobian...:     1509\n",
      "Number of nonzeros in inequality constraint Jacobian.:       38\n",
      "Number of nonzeros in Lagrangian Hessian.............:      759\n",
      "\n",
      "Total number of variables............................:      297\n",
      "                     variables with only lower bounds:        0\n",
      "                variables with lower and upper bounds:        0\n",
      "                     variables with only upper bounds:        0\n",
      "Total number of equality constraints.................:      234\n",
      "Total number of inequality constraints...............:       38\n",
      "        inequality constraints with only lower bounds:       38\n",
      "   inequality constraints with lower and upper bounds:        0\n",
      "        inequality constraints with only upper bounds:        0\n",
      "\n",
      "iter    objective    inf_pr   inf_du lg(mu)  ||d||  lg(rg) alpha_du alpha_pr  ls\n",
      "   0  5.2016581e+00 1.52e+00 3.56e+00  -1.0 0.00e+00    -  0.00e+00 0.00e+00   0\n",
      "   1  2.9469313e-01 1.05e-01 3.69e-01  -1.0 1.31e+00  -2.0 7.29e-01 1.00e+00f  1\n",
      "   2  2.2924616e-01 1.39e-01 6.39e-01  -1.0 5.84e+00  -1.6 1.00e+00 1.00e+00f  1\n",
      "   3  6.1326457e-01 1.14e-02 1.47e-01  -1.0 3.71e+00  -2.1 1.00e+00 1.00e+00f  1\n",
      "   4  1.4731857e-01 1.71e-04 1.01e-01  -1.7 1.72e+00  -2.5 1.00e+00 1.00e+00f  1\n",
      "   5  1.9873864e-02 1.28e-02 4.43e-02  -2.5 3.14e+00    -  8.89e-01 1.00e+00f  1\n"
     ]
    },
    {
     "name": "stdout",
     "output_type": "stream",
     "text": [
      "   6  3.3395654e-02 2.85e-01 3.70e-02  -2.5 2.08e+01    -  1.00e+00 1.00e+00h  1\n",
      "   7  2.1028054e-02 1.92e-02 5.15e-03  -2.5 3.86e-01  -3.0 1.00e+00 1.00e+00h  1\n",
      "   8  6.7101048e-03 1.39e-01 1.02e-02  -3.8 1.47e+01    -  9.89e-01 1.00e+00h  1\n",
      "   9  4.7301960e-03 1.87e-01 3.85e-03  -3.8 1.03e+01    -  1.00e+00 1.00e+00h  1\n",
      "iter    objective    inf_pr   inf_du lg(mu)  ||d||  lg(rg) alpha_du alpha_pr  ls\n",
      "  10  4.3088197e-03 5.97e-02 4.48e-04  -3.8 5.99e+00    -  1.00e+00 1.00e+00h  1\n",
      "  11  4.2604912e-03 9.68e-04 1.43e-05  -3.8 1.01e+00    -  1.00e+00 1.00e+00h  1\n",
      "  12  3.9604150e-03 3.99e-03 9.64e-05  -5.0 3.90e+00    -  1.00e+00 1.00e+00h  1\n",
      "  13  3.9053671e-03 4.26e-04 4.70e-06  -5.0 1.77e+00    -  1.00e+00 1.00e+00h  1\n",
      "  14  3.8972283e-03 1.94e-05 1.17e-07  -5.0 5.71e-01    -  1.00e+00 1.00e+00h  1\n",
      "\n",
      "Number of Iterations....: 14\n",
      "\n",
      "                                   (scaled)                 (unscaled)\n",
      "Objective...............:   3.8972282834762962e-03    3.8972282834762962e-03\n",
      "Dual infeasibility......:   1.1706129985778986e-07    1.1706129985778986e-07\n",
      "Constraint violation....:   1.9368183557855190e-05    1.9368183557855190e-05\n",
      "Variable bound violation:   0.0000000000000000e+00    0.0000000000000000e+00\n",
      "Complementarity.........:   9.7666006671086267e-06    9.7666006671086267e-06\n",
      "Overall NLP error.......:   1.9368183557855190e-05    1.9368183557855190e-05\n",
      "\n",
      "\n",
      "Number of objective function evaluations             = 15\n",
      "Number of objective gradient evaluations             = 15\n",
      "Number of equality constraint evaluations            = 15\n",
      "Number of inequality constraint evaluations          = 15\n",
      "Number of equality constraint Jacobian evaluations   = 15\n",
      "Number of inequality constraint Jacobian evaluations = 15\n",
      "Number of Lagrangian Hessian evaluations             = 14\n",
      "Total seconds in IPOPT                               = 0.025\n",
      "\n",
      "EXIT: Optimal Solution Found.\n",
      "      solver  :   t_proc      (avg)   t_wall      (avg)    n_eval\n",
      "       nlp_f  |   4.19ms (  4.91us)   4.05ms (  4.74us)       853\n",
      "       nlp_g  |  14.68ms ( 17.21us)  13.57ms ( 15.91us)       853\n",
      "    nlp_grad  |   1.19ms ( 66.00us)   1.18ms ( 65.28us)        18\n",
      "  nlp_grad_f  |   3.39ms (  7.29us)   3.22ms (  6.92us)       465\n",
      "  nlp_hess_l  |  37.90ms ( 88.77us)  37.90ms ( 88.75us)       427\n",
      "   nlp_jac_g  |  16.38ms ( 35.22us)  16.37ms ( 35.20us)       465\n",
      "       total  |  25.51ms ( 25.51ms)  25.11ms ( 25.11ms)         1\n"
     ]
    }
   ],
   "source": [
    "# On-line estimation\n",
    "current_progress = 0.0 + window_len*stepsize\n",
    "while current_progress <= arclength_n[-1]:\n",
    "\n",
    "    #print(f\"current progress = {current_progress}\")\n",
    "    \n",
    "    measurements = simulate_noisy_measurements(spline_model_trajectory,current_progress,stepsize,window_len)\n",
    "\n",
    "    # Calculate invariants in window\n",
    "    invariants_online, trajectory_online, mf = FS_online_calculation_problem.calculate_invariants_online(measurements,stepsize,window_increment)\n",
    "\n",
    "    # Visualization\n",
    "    xvector = np.linspace(current_progress-window_len*stepsize, current_progress , window_len)\n",
    "    \n",
    "    clear_output(wait=True)\n",
    "    \n",
    "    plt.figure(figsize=(12,8))\n",
    "    plt.subplot(2,2,1)\n",
    "    plt.plot(trajectory[:,0],trajectory[:,1],'b.-')\n",
    "    plt.plot(measurements[:,0],measurements[:,1],'k.')\n",
    "    plt.plot(trajectory_online[:,0],trajectory_online[:,1],'r')\n",
    "    \n",
    "    plt.subplot(2,2,3)\n",
    "    plt.plot(xvector,(invariants_online[:,0]),'r')\n",
    "    plt.plot(arclength_n,invariants[:,0],'b')\n",
    "    plt.plot(0,0)\n",
    "    plt.title('Velocity [m/-]')\n",
    "    \n",
    "    plt.subplot(2,2,2)\n",
    "    plt.plot(xvector,(invariants_online[:,1]),'r')\n",
    "    plt.plot(arclength_n,invariants[:,1],'b')\n",
    "    plt.plot(0,0)\n",
    "    plt.title('Curvature [rad/-]')\n",
    "    \n",
    "    plt.subplot(2,2,4)\n",
    "    plt.plot(xvector,(invariants_online[:,2]),'r')\n",
    "    plt.plot(arclength_n,invariants[:,2],'b')\n",
    "    plt.plot(0,1)\n",
    "    plt.title('Torsion [rad/-]')\n",
    "\n",
    "    plt.show()\n",
    "    \n",
    "    \n",
    "    current_progress = round(current_progress + window_increment*stepsize,3) # start index next window\n"
   ]
  },
  {
   "cell_type": "markdown",
   "id": "89c6285d",
   "metadata": {},
   "source": [
    "### Future work \n",
    "\n",
    "- now the weights are fixed throughout the estimation, could also be made adaptable\n",
    "- further investigate alternative regularization terms such as minimum-jerk\n",
    "- integrate with particle filter to estimate progress along trajectory\n",
    "\n"
   ]
  },
  {
   "cell_type": "code",
   "execution_count": null,
   "id": "a69ab415",
   "metadata": {},
   "outputs": [],
   "source": []
  }
 ],
 "metadata": {
  "@webio": {
   "lastCommId": null,
   "lastKernelId": null
  },
  "kernelspec": {
   "display_name": "Python 3 (ipykernel)",
   "language": "python",
   "name": "python3"
  },
  "language_info": {
   "codemirror_mode": {
    "name": "ipython",
    "version": 3
   },
   "file_extension": ".py",
   "mimetype": "text/x-python",
   "name": "python",
   "nbconvert_exporter": "python",
   "pygments_lexer": "ipython3",
   "version": "3.10.12"
  }
 },
 "nbformat": 4,
 "nbformat_minor": 5
}
