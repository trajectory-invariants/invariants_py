{
 "cells": [
  {
   "cell_type": "markdown",
   "id": "361d2ef4",
   "metadata": {},
   "source": [
    "# Online estimation of curvature and torsion for a contour following task\n",
    "\n",
    "\n",
    "This notebook aims to provide an example of calculating invariant shape descriptors for the application of contour following. \n",
    "\n",
    "The estimated invariants can be used to estimate *the progress* along the trajectory, and serve as *feedforward in the robot controller*. "
   ]
  },
  {
   "cell_type": "code",
   "execution_count": 1,
   "id": "e1a22b02",
   "metadata": {},
   "outputs": [
    {
     "ename": "ModuleNotFoundError",
     "evalue": "No module named 'reparameterization'",
     "output_type": "error",
     "traceback": [
      "\u001b[1;31m---------------------------------------------------------------------------\u001b[0m",
      "\u001b[1;31mModuleNotFoundError\u001b[0m                       Traceback (most recent call last)",
      "\u001b[1;32m~\\AppData\\Local\\Temp\\ipykernel_19104\\3822143000.py\u001b[0m in \u001b[0;36m<cell line: 0>\u001b[1;34m()\u001b[0m\n\u001b[0;32m      1\u001b[0m \u001b[1;32mimport\u001b[0m \u001b[0mnumpy\u001b[0m \u001b[1;32mas\u001b[0m \u001b[0mnp\u001b[0m\u001b[1;33m\u001b[0m\u001b[1;33m\u001b[0m\u001b[0m\n\u001b[0;32m      2\u001b[0m \u001b[1;32mimport\u001b[0m \u001b[0mmatplotlib\u001b[0m\u001b[1;33m.\u001b[0m\u001b[0mpyplot\u001b[0m \u001b[1;32mas\u001b[0m \u001b[0mplt\u001b[0m\u001b[1;33m\u001b[0m\u001b[1;33m\u001b[0m\u001b[0m\n\u001b[1;32m----> 3\u001b[1;33m \u001b[1;32mimport\u001b[0m \u001b[0mreparameterization\u001b[0m \u001b[1;32mas\u001b[0m \u001b[0mreparam\u001b[0m\u001b[1;33m\u001b[0m\u001b[1;33m\u001b[0m\u001b[0m\n\u001b[0m\u001b[0;32m      4\u001b[0m \u001b[1;32mimport\u001b[0m \u001b[0mscipy\u001b[0m\u001b[1;33m.\u001b[0m\u001b[0minterpolate\u001b[0m \u001b[1;32mas\u001b[0m \u001b[0mip\u001b[0m\u001b[1;33m\u001b[0m\u001b[1;33m\u001b[0m\u001b[0m\n\u001b[0;32m      5\u001b[0m \u001b[1;32mfrom\u001b[0m \u001b[0mclass_frenetserret_calculation\u001b[0m \u001b[1;32mimport\u001b[0m \u001b[0mFrenetSerret_calc\u001b[0m\u001b[1;33m\u001b[0m\u001b[1;33m\u001b[0m\u001b[0m\n",
      "\u001b[1;31mModuleNotFoundError\u001b[0m: No module named 'reparameterization'"
     ]
    }
   ],
   "source": [
    "import numpy as np\n",
    "import matplotlib.pyplot as plt\n",
    "import invariants_py.reparameterization as reparam\n",
    "import scipy.interpolate as ip\n",
    "from invariants_py.class_frenetserret_calculation import OCP_calc_pos\n",
    "from IPython.display import clear_output\n"
   ]
  },
  {
   "cell_type": "markdown",
   "id": "05fce432",
   "metadata": {},
   "source": [
    "### Load example contour data and reparameterize to arclength\n"
   ]
  },
  {
   "cell_type": "code",
   "execution_count": null,
   "id": "7aaa65fe",
   "metadata": {},
   "outputs": [],
   "source": [
    "data_location = '../data/contour_coordinates.out'\n",
    "position_data = np.loadtxt(data_location, dtype='float')\n",
    "trajectory,time_profile,arclength,nb_samples,stepsize = reparam.reparameterize_positiontrajectory_arclength(position_data)\n",
    "stepsize_orig = stepsize\n",
    "arclength_n = arclength/arclength[-1]\n"
   ]
  },
  {
   "cell_type": "markdown",
   "id": "a56b4b5e",
   "metadata": {},
   "source": [
    "Visualization of contour profile"
   ]
  },
  {
   "cell_type": "code",
   "execution_count": null,
   "id": "a9953a0c",
   "metadata": {},
   "outputs": [],
   "source": [
    "plt.figure(figsize=(8,3))\n",
    "plt.axis('equal')\n",
    "plt.plot(trajectory[:,0],trajectory[:,1],'.-')"
   ]
  },
  {
   "cell_type": "markdown",
   "id": "f02c2fac",
   "metadata": {},
   "source": [
    "### Calculate global curvature and torsion for global trajectory to later compare with\n",
    "\n",
    "Two steps:\n",
    "1. first specify optimization problem symbolically\n",
    "2. calculate invariants given measured trajectory\n",
    "\n",
    "The optimization problem **can be re-used later** for different measurements (provided they are the same size)"
   ]
  },
  {
   "cell_type": "code",
   "execution_count": null,
   "id": "b645a753",
   "metadata": {},
   "outputs": [],
   "source": [
    "# specify optimization problem symbolically\n",
    "FS_calculation_problem = OCP_calc_pos(window_len=nb_samples, \n",
    "                                           bool_unsigned_invariants = True, w_pos = 100, \n",
    "                                           w_deriv = (10**-12)*np.array([1.0, 1.0, 1.0]), \n",
    "                                           w_abs = (10**-5)*np.array([1.0, 1.0]))\n",
    "\n",
    "# calculate invariants given measurements\n",
    "invariants, calculate_trajectory, movingframes = FS_calculation_problem.calculate_invariants_global(trajectory,stepsize)\n"
   ]
  },
  {
   "cell_type": "markdown",
   "id": "daeb9875",
   "metadata": {},
   "source": [
    "Visualize calculated invariants and corresponding trajectory"
   ]
  },
  {
   "cell_type": "code",
   "execution_count": null,
   "id": "e9451f8c",
   "metadata": {},
   "outputs": [],
   "source": [
    "plt.figure(figsize=(8,3))\n",
    "plt.axis('equal')\n",
    "plt.plot(trajectory[:,0],trajectory[:,1],'.-')\n",
    "plt.plot(calculate_trajectory[:,0],calculate_trajectory[:,1],'.-')\n",
    "\n",
    "f, (ax1, ax2, ax3) = plt.subplots(1, 3, sharey=True, figsize=(8,3))\n",
    "ax1.plot(arclength_n,invariants[:,0])\n",
    "ax1.set_title('Velocity [m/-]')\n",
    "ax1.set_xlabel('s [-]')\n",
    "ax2.plot(arclength_n,invariants[:,1])\n",
    "ax2.set_title('Curvature [rad/-]')\n",
    "ax2.set_xlabel('s [-]')\n",
    "ax3.plot(arclength_n,invariants[:,2])\n",
    "ax3.set_title('Torsion [rad/-]')\n",
    "ax3.set_xlabel('s [-]')\n",
    "\n"
   ]
  },
  {
   "cell_type": "markdown",
   "id": "f5cb3da3",
   "metadata": {},
   "source": [
    "## Simulation of online measurements\n",
    "\n",
    "The purpose is to test the online calculation separate from a real application."
   ]
  },
  {
   "cell_type": "code",
   "execution_count": null,
   "id": "ba977be9",
   "metadata": {},
   "outputs": [],
   "source": [
    "# Generate noisy measurements in a specified window\n",
    "def simulate_noisy_measurements(model_trajectory, current_progress, stepsize, online_window_len):\n",
    "    \n",
    "    noise_std = 0.001\n",
    "    \n",
    "    progress_values = np.linspace(current_progress, current_progress-online_window_len*stepsize, online_window_len )\n",
    "    noisy_measurements = np.array([model_trajectory(i) for i in progress_values]) \n",
    "\n",
    "    return noisy_measurements + np.random.randn(online_window_len,3)*noise_std\n"
   ]
  },
  {
   "cell_type": "markdown",
   "id": "4498afb4",
   "metadata": {},
   "source": [
    "### Test the generation of noisy measurements"
   ]
  },
  {
   "cell_type": "code",
   "execution_count": null,
   "id": "43dca1f3",
   "metadata": {},
   "outputs": [],
   "source": [
    "# Parameterize the input trajectory as a spline\n",
    "knots = np.concatenate(([arclength[0]],[arclength[0]],arclength,[arclength[-1]],[arclength[-1]]))\n",
    "degree = 3\n",
    "spline_model_trajectory = ip.BSpline(knots,trajectory,degree)\n",
    "\n",
    "# Generate noisy measurements\n",
    "test_measurements = simulate_noisy_measurements(spline_model_trajectory,\n",
    "                                                current_progress=0.8,stepsize=0.005,online_window_len=20)\n",
    "\n",
    "# Visualization of noisy measurements on trajectory\n",
    "plt.figure(figsize=(8,3))\n",
    "plt.axis('equal')\n",
    "plt.plot(trajectory[:,0],trajectory[:,1],'.-')\n",
    "plt.plot(test_measurements[:,0],test_measurements[:,1],'k.-')\n",
    "\n"
   ]
  },
  {
   "cell_type": "markdown",
   "id": "56164007",
   "metadata": {},
   "source": [
    "## Online estimation of curvature and torsion\n",
    "\n",
    "Estimate invariants with a receding window approach\n",
    "\n",
    "1. Specify optimization problem once\n",
    "2. Re-use the same specification during on-line estimation"
   ]
  },
  {
   "cell_type": "code",
   "execution_count": null,
   "id": "5b677b07",
   "metadata": {},
   "outputs": [],
   "source": [
    "# specify optimization problem symbolically\n",
    "window_len = 20\n",
    "stepsize = 0.005\n",
    "window_increment = 10\n",
    "FS_online_calculation_problem = OCP_calc_pos(window_len=window_len,\n",
    "                                                  bool_unsigned_invariants = True, \n",
    "                                                  w_pos = 50, w_deriv = (10**-7)*np.array([1.0, 1.0, 1.0]), \n",
    "                                                  w_abs = (10**-6)*np.array([1.0, 1.0]))\n"
   ]
  },
  {
   "cell_type": "code",
   "execution_count": null,
   "id": "26dde107",
   "metadata": {},
   "outputs": [],
   "source": [
    "# On-line estimation\n",
    "current_progress = 0.0 + window_len*stepsize\n",
    "while current_progress <= arclength_n[-1]:\n",
    "\n",
    "    #print(f\"current progress = {current_progress}\")\n",
    "    \n",
    "    measurements = simulate_noisy_measurements(spline_model_trajectory,current_progress,stepsize,window_len)\n",
    "\n",
    "    # Calculate invariants in window\n",
    "    invariants_online, trajectory_online, mf = FS_online_calculation_problem.calculate_invariants_online(measurements,stepsize,window_increment)\n",
    "\n",
    "    # Visualization\n",
    "    xvector = np.linspace(current_progress-window_len*stepsize, current_progress , window_len)\n",
    "    \n",
    "    clear_output(wait=True)\n",
    "    \n",
    "    plt.figure(figsize=(12,8))\n",
    "    plt.subplot(2,2,1)\n",
    "    plt.plot(trajectory[:,0],trajectory[:,1],'b.-')\n",
    "    plt.plot(measurements[:,0],measurements[:,1],'k.')\n",
    "    plt.plot(trajectory_online[:,0],trajectory_online[:,1],'r')\n",
    "    \n",
    "    plt.subplot(2,2,3)\n",
    "    plt.plot(xvector,(invariants_online[:,0]),'r')\n",
    "    plt.plot(arclength_n,invariants[:,0],'b')\n",
    "    plt.plot(0,0)\n",
    "    plt.title('Velocity [m/-]')\n",
    "    \n",
    "    plt.subplot(2,2,2)\n",
    "    plt.plot(xvector,(invariants_online[:,1]),'r')\n",
    "    plt.plot(arclength_n,invariants[:,1],'b')\n",
    "    plt.plot(0,0)\n",
    "    plt.title('Curvature [rad/-]')\n",
    "    \n",
    "    plt.subplot(2,2,4)\n",
    "    plt.plot(xvector,(invariants_online[:,2]),'r')\n",
    "    plt.plot(arclength_n,invariants[:,2],'b')\n",
    "    plt.plot(0,1)\n",
    "    plt.title('Torsion [rad/-]')\n",
    "\n",
    "    plt.show(block=False)\n",
    "    \n",
    "    \n",
    "    current_progress = round(current_progress + window_increment*stepsize,3) # start index next window\n"
   ]
  },
  {
   "cell_type": "markdown",
   "id": "89c6285d",
   "metadata": {},
   "source": [
    "### Future work \n",
    "\n",
    "- now the weights are fixed throughout the estimation, could also be made adaptable\n",
    "- further investigate alternative regularization terms such as minimum-jerk\n",
    "- integrate with particle filter to estimate progress along trajectory\n",
    "\n"
   ]
  },
  {
   "cell_type": "code",
   "execution_count": null,
   "id": "a69ab415",
   "metadata": {},
   "outputs": [],
   "source": []
  }
 ],
 "metadata": {
  "@webio": {
   "lastCommId": null,
   "lastKernelId": null
  },
  "kernelspec": {
   "display_name": "Python 3 (ipykernel)",
   "language": "python",
   "name": "python3"
  },
  "language_info": {
   "codemirror_mode": {
    "name": "ipython",
    "version": 3
   },
   "file_extension": ".py",
   "mimetype": "text/x-python",
   "name": "python",
   "nbconvert_exporter": "python",
   "pygments_lexer": "ipython3",
   "version": "3.11.7"
  }
 },
 "nbformat": 4,
 "nbformat_minor": 5
}
