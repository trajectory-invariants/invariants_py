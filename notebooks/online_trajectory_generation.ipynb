{
 "cells": [
  {
   "cell_type": "markdown",
   "id": "361d2ef4",
   "metadata": {},
   "source": [
    "# Online trajectory generation from invariant descriptor\n",
    "\n",
    "\n",
    "This notebook serves as an example of on-line adaptation of demonstrated trajectories in a shape-preserving way\n"
   ]
  },
  {
   "cell_type": "code",
   "execution_count": null,
   "id": "e1a22b02",
   "metadata": {},
   "outputs": [],
   "source": [
    "import numpy as np\n",
    "import sys\n",
    "sys.path.append('../invariants_py')\n",
    "import invariants_py.data_handler as dh\n",
    "import matplotlib.pyplot as plt\n",
    "import invariants_py.reparameterization as reparam\n",
    "import scipy.interpolate as ip\n",
    "from invariants_py.opti_calculate_vector_invariants_position_mf import OCP_calc_pos\n",
    "from invariants_py.opti_generate_position_from_vector_invariants import OCP_generate_pos\n",
    "from IPython.display import clear_output\n",
    "from IPython.core.display import display, HTML\n",
    "display(HTML(\"<style>.container { width:100% !important; }</style>\"))"
   ]
  },
  {
   "cell_type": "markdown",
   "id": "05fce432",
   "metadata": {},
   "source": [
    "## Load example trajectory data and reparameterize to arclength\n"
   ]
  },
  {
   "cell_type": "code",
   "execution_count": null,
   "id": "7aaa65fe",
   "metadata": {
    "scrolled": true
   },
   "outputs": [],
   "source": [
    "data_location = '../data/sine_wave.txt'\n",
    "\n",
    "# Load data\n",
    "trajectory,time = dh.read_pose_trajectory_from_txt(data_location)\n",
    "\n",
    "# Reparameterize\n",
    "pose,time_profile,arclength,nb_samples,stepsize = reparam.reparameterize_trajectory_arclength(trajectory)\n",
    "arclength_n = arclength/arclength[-1]\n",
    "trajectory = pose[:,0:3,3]\n"
   ]
  },
  {
   "cell_type": "markdown",
   "id": "d5aeaaf4",
   "metadata": {},
   "source": [
    "Visualize the trajectory"
   ]
  },
  {
   "cell_type": "code",
   "execution_count": null,
   "id": "84d5e750",
   "metadata": {},
   "outputs": [],
   "source": [
    "# Plot trajectory\n",
    "fig = plt.figure(figsize=(8,8))\n",
    "ax = fig.add_subplot(111, projection='3d')\n",
    "ax = plt.axes(projection='3d')\n",
    "ax.view_init(elev=26, azim=140)\n",
    "ax.plot(trajectory[:,0],trajectory[:,1],trajectory[:,2],'-')\n"
   ]
  },
  {
   "cell_type": "markdown",
   "id": "f02c2fac",
   "metadata": {},
   "source": [
    "## Calculate invariant model for demonstrated trajectory\n",
    "\n",
    "\n",
    "Two steps:\n",
    "1. first specify optimization problem symbolically\n",
    "2. calculate invariants given measured trajectory"
   ]
  },
  {
   "cell_type": "code",
   "execution_count": null,
   "id": "b645a753",
   "metadata": {},
   "outputs": [],
   "source": [
    "# specify optimization problem symbolically\n",
    "FS_calculation_problem = OCP_calc_pos(window_len=nb_samples, bool_unsigned_invariants = False, \n",
    "                                           w_pos = 1, w_deriv = (10**-5)*np.array([1.0, 1.0, 1.0]), \n",
    "                                           w_abs = (10**-6)*np.array([1.0, 1.0]))\n",
    "\n",
    "# calculate invariants given measurements\n",
    "invariants, calculate_trajectory, movingframes = FS_calculation_problem.calculate_invariants_global(trajectory,stepsize)\n",
    "init_vals_calculate_trajectory = calculate_trajectory\n",
    "init_vals_movingframes = movingframes\n"
   ]
  },
  {
   "cell_type": "markdown",
   "id": "daeb9875",
   "metadata": {},
   "source": [
    "Visualize calculated trajectory and invariants"
   ]
  },
  {
   "cell_type": "code",
   "execution_count": null,
   "id": "e9451f8c",
   "metadata": {},
   "outputs": [],
   "source": [
    "# Plot trajectory\n",
    "fig = plt.figure(figsize=(6,6))\n",
    "ax = fig.add_subplot(111, projection='3d')\n",
    "ax = plt.axes(projection='3d')\n",
    "ax.plot(trajectory[:,0],trajectory[:,1],trajectory[:,2],'.-')\n",
    "ax.plot(calculate_trajectory[:,0],calculate_trajectory[:,1],calculate_trajectory[:,2],'.-')\n",
    "\n",
    "# Plot invariants\n",
    "f, (ax1, ax2, ax3) = plt.subplots(1, 3, sharey=True, figsize=(10,3))\n",
    "ax1.plot(arclength_n,invariants[:,0])\n",
    "ax1.set_title('Velocity [m/-]')\n",
    "ax1.set_xlabel('s [-]')\n",
    "ax2.plot(arclength_n,invariants[:,1])\n",
    "ax2.set_title('Curvature [rad/-]')\n",
    "ax2.set_xlabel('s [-]')\n",
    "ax3.plot(arclength_n,invariants[:,2])\n",
    "ax3.set_title('Torsion [rad/-]')\n",
    "ax3.set_xlabel('s [-]')\n",
    "\n"
   ]
  },
  {
   "cell_type": "code",
   "execution_count": null,
   "id": "6c809853",
   "metadata": {},
   "outputs": [],
   "source": [
    "movingframes[:,0,0]"
   ]
  },
  {
   "cell_type": "code",
   "execution_count": null,
   "id": "387caaaf",
   "metadata": {},
   "outputs": [],
   "source": [
    "import json\n",
    "initialvalues_frames = np.hstack((movingframes[:,0,0], movingframes[:,1,0], movingframes[:,2,0], movingframes[:,0,1], movingframes[:,1,1], movingframes[:,2,1], movingframes[:,0,2], movingframes[:,1,2], movingframes[:,2,2], calculate_trajectory[:,0], calculate_trajectory[:,1], calculate_trajectory[:,2]))\n",
    "invariants_model = np.hstack((invariants[:,0], invariants[:,1], invariants[:,2]))\n",
    "json.dumps({\"initial_frames\":initialvalues_frames.tolist(), \"invariants_model\":invariants_model.tolist()})\n"
   ]
  },
  {
   "cell_type": "markdown",
   "id": "f5cb3da3",
   "metadata": {},
   "source": [
    "## Trajectory generation during execution\n",
    "\n",
    "Goal is to generate a single new trajectory during execution towards a new target, assuming we know the current progress s0"
   ]
  },
  {
   "cell_type": "code",
   "execution_count": null,
   "id": "ba977be9",
   "metadata": {},
   "outputs": [],
   "source": [
    "# Function that allows to re-sample the invariant model given the progress range [s0,s1] in which we want a trajectory\n",
    "def interpolate_model_invariants(demo_invariants, progress_values):\n",
    "    \n",
    "    resampled_invariants = np.array([demo_invariants(i) for i in progress_values]) \n",
    "    new_stepsize = progress_values[1] - progress_values[0] \n",
    "    resampled_invariants[:,0] = resampled_invariants[:,0] *  (progress_values[-1] - progress_values[0])\n",
    "    return resampled_invariants, new_stepsize\n"
   ]
  },
  {
   "cell_type": "markdown",
   "id": "d4f72c14",
   "metadata": {},
   "source": [
    "### Resample the invariant model for the new progress range [s0,s1]"
   ]
  },
  {
   "cell_type": "code",
   "execution_count": null,
   "id": "4544c60d",
   "metadata": {},
   "outputs": [],
   "source": [
    "# Parameterize invariants as a spline\n",
    "knots = np.concatenate(([arclength_n[0]],[arclength_n[0]],arclength_n,[arclength_n[-1]],[arclength_n[-1]]))\n",
    "spline_model_trajectory = ip.BSpline(knots,invariants,3)\n",
    "\n",
    "# Define new start progress s0\n",
    "current_progress = 0.4\n",
    "number_samples = 40\n",
    "progress_values = np.linspace(current_progress, arclength_n[-1], number_samples)\n",
    "model_invariants,new_stepsize = interpolate_model_invariants(spline_model_trajectory,progress_values)\n",
    "\n",
    "# Plot invariants\n",
    "f, (ax1, ax2, ax3) = plt.subplots(1, 3, sharey=True, figsize=(10,3))\n",
    "ax1.plot(arclength_n,invariants[:,0])\n",
    "ax1.plot(progress_values,model_invariants[:,0],'r.')\n",
    "ax1.set_title('Velocity [m/m]')\n",
    "ax2.plot(arclength_n,invariants[:,1])\n",
    "ax2.plot(progress_values,model_invariants[:,1],'r.')\n",
    "ax2.set_title('Curvature [rad/m]')\n",
    "ax3.plot(arclength_n,invariants[:,2])\n",
    "ax3.plot(progress_values,model_invariants[:,2],'r.')\n",
    "ax3.set_title('Torsion [rad/m]')\n",
    "\n",
    "print('Assume the task is at s=0.4, resample invariants between s=0.4 and s=1.0:')\n"
   ]
  },
  {
   "cell_type": "markdown",
   "id": "3344769a",
   "metadata": {},
   "source": [
    "### Define new constraints and solve the optimization problem to retrieve the trajectory"
   ]
  },
  {
   "cell_type": "code",
   "execution_count": null,
   "id": "e97f3292",
   "metadata": {},
   "outputs": [],
   "source": [
    "# new constraints\n",
    "current_index = round(current_progress*len(trajectory))\n",
    "p_obj_start = calculate_trajectory[current_index]\n",
    "p_obj_end = calculate_trajectory[-1] - np.array([-0.2, 0.0, 0.0])\n",
    "R_FS_start = movingframes[current_index]\n",
    "R_FS_end = movingframes[-1]\n",
    "\n",
    "# specify optimization problem symbolically\n",
    "FS_online_generation_problem = OCP_generate_pos(window_len=number_samples,w_invars = 10**2*np.array([10**1, 1.0, 1.0]))\n",
    "\n",
    "# Solve\n",
    "calculate_trajectory = init_vals_calculate_trajectory\n",
    "movingframes = init_vals_movingframes\n",
    "new_invars, new_trajectory, new_movingframes = FS_online_generation_problem.generate_trajectory(U_demo = model_invariants, \n",
    "                                                                                                p_obj_init = calculate_trajectory, \n",
    "                                                                                                R_t_init = movingframes, \n",
    "                                                                                                R_t_start = R_FS_start, \n",
    "                                                                                                R_t_end = R_FS_end, \n",
    "                                                                                                p_obj_start = p_obj_start, \n",
    "                                                                                                p_obj_end = p_obj_end, \n",
    "                                                                                                step_size = new_stepsize)\n",
    "\n"
   ]
  },
  {
   "cell_type": "markdown",
   "id": "6b33d1a8",
   "metadata": {},
   "source": [
    "### Visualize resulting trajectory and invariants"
   ]
  },
  {
   "cell_type": "code",
   "execution_count": null,
   "id": "345eccee",
   "metadata": {},
   "outputs": [],
   "source": [
    "# Plot trajectory\n",
    "fig = plt.figure(figsize=(12,6))\n",
    "ax = fig.add_subplot(111, projection='3d')\n",
    "ax.view_init(elev=26, azim=140)\n",
    "ax.plot(trajectory[:,0],trajectory[:,1],trajectory[:,2],'b')\n",
    "ax.plot(new_trajectory[:,0],new_trajectory[:,1],new_trajectory[:,2],'r')\n",
    "ax.plot(new_trajectory[-1,0],new_trajectory[-1,1],new_trajectory[-1,2],'r*')\n",
    "ax.plot(new_trajectory[0,0],new_trajectory[0,1],new_trajectory[0,2],'ro')\n",
    "\n",
    "# Plot invariants\n",
    "fig = plt.figure(figsize=(14,5))\n",
    "plt.subplot(1,3,1)\n",
    "plt.plot(progress_values,new_invars[:,0],'r')\n",
    "plt.plot(arclength_n,invariants[:,0],'b')\n",
    "plt.plot(0,0)\n",
    "plt.title('Velocity [m/-]')\n",
    "plt.subplot(1,3,2)\n",
    "plt.plot(progress_values,(new_invars[:,1]),'r')\n",
    "plt.plot(arclength_n,invariants[:,1],'b')\n",
    "plt.plot(0,0)\n",
    "plt.title('Curvature [rad/-]')\n",
    "plt.subplot(1,3,3)\n",
    "plt.plot(progress_values,(new_invars[:,2]),'r')\n",
    "plt.plot(arclength_n,invariants[:,2],'b')\n",
    "plt.plot(0,0)\n",
    "plt.title('Torsion [rad/-]')\n",
    "plt.show()\n"
   ]
  },
  {
   "cell_type": "markdown",
   "id": "484bac3f",
   "metadata": {},
   "source": [
    "## Online trajectory generation\n",
    "\n",
    "Continuously generate new trajectories during execution towards a changing target"
   ]
  },
  {
   "cell_type": "code",
   "execution_count": null,
   "id": "a5a8d6f9",
   "metadata": {},
   "outputs": [],
   "source": [
    "# Specify optimization problem symbolically\n",
    "window_len = 20\n",
    "FS_online_generation_problem = OCP_generate_pos(window_len=window_len,w_invars = 10**1*np.array([10**1, 1.0, 1.0]))\n",
    "\n",
    "# Initializing loop\n",
    "current_progress = 0.0\n",
    "old_progress = 0.0\n",
    "calculate_trajectory = init_vals_calculate_trajectory\n",
    "movingframes = init_vals_movingframes\n",
    "\n",
    "while current_progress <= 1.0:\n",
    "    \n",
    "    print(f\"current progress = {current_progress}\")\n",
    "\n",
    "    # Resample invariants for current progress\n",
    "    progress_values = np.linspace(current_progress, arclength_n[-1], window_len)\n",
    "    model_invariants,new_stepsize = interpolate_model_invariants(spline_model_trajectory,progress_values)\n",
    "    \n",
    "    # Select new boundary constraints\n",
    "    current_index = round( (current_progress - old_progress) * len(calculate_trajectory))\n",
    "    #print(current_index)\n",
    "    p_obj_start = calculate_trajectory[current_index]\n",
    "    p_obj_end = trajectory[-1] - current_progress*np.array([-0.2, 0.0, 0.0])\n",
    "    R_FS_start = movingframes[current_index] \n",
    "    R_FS_end = movingframes[-1] \n",
    "\n",
    "    # Calculate remaining trajectory\n",
    "    new_invars, calculate_trajectory, movingframes = FS_online_generation_problem.generate_trajectory(U_demo = model_invariants, \n",
    "                                                                                                      p_obj_init = calculate_trajectory, \n",
    "                                                                                                      R_t_init = movingframes, R_t_start = R_FS_start, \n",
    "                                                                                                      R_t_end = R_FS_end, p_obj_start = p_obj_start, \n",
    "                                                                                                      p_obj_end = p_obj_end, step_size = new_stepsize)\n",
    "\n",
    "    # Plot trajectory\n",
    "    clear_output(wait=True)\n",
    "    fig = plt.figure(figsize=(14,8))\n",
    "    ax = fig.add_subplot(231, projection='3d')\n",
    "    ax.view_init(elev=26, azim=140)\n",
    "    ax.plot(trajectory[:,0],trajectory[:,1],trajectory[:,2],'b')\n",
    "    ax.plot(calculate_trajectory[:,0],calculate_trajectory[:,1],calculate_trajectory[:,2],'r')\n",
    "    ax.plot(calculate_trajectory[-1,0],calculate_trajectory[-1,1],calculate_trajectory[-1,2],'r*')\n",
    "    ax.plot(calculate_trajectory[0,0],calculate_trajectory[0,1],calculate_trajectory[0,2],'ro')\n",
    "    \n",
    "    # Plot invariants\n",
    "    plt.subplot(2,3,4)\n",
    "    plt.plot(progress_values,new_invars[:,0],'r')\n",
    "    plt.plot(arclength_n,invariants[:,0],'b')\n",
    "    plt.plot(0,0)\n",
    "    plt.title('velocity [m/m]')\n",
    "    plt.subplot(2,3,5)\n",
    "    plt.plot(progress_values,(new_invars[:,1]),'r')\n",
    "    plt.plot(arclength_n,invariants[:,1],'b')\n",
    "    plt.plot(0,0)\n",
    "    plt.title('curvature [rad/m]')\n",
    "    plt.subplot(2,3,6)\n",
    "    plt.plot(progress_values,(new_invars[:,2]),'r')\n",
    "    plt.plot(arclength_n,invariants[:,2],'b')\n",
    "    plt.plot(0,0)\n",
    "    plt.title('torsion [rad/m]')\n",
    "    plt.show()\n",
    "    \n",
    "    # New progress\n",
    "    old_progress = current_progress\n",
    "    current_progress = old_progress + 1/window_len\n",
    "    \n",
    "  "
   ]
  },
  {
   "cell_type": "markdown",
   "id": "47760881",
   "metadata": {},
   "source": [
    "## Future work\n",
    "\n",
    "implement all existing optimization problems:\n",
    "- *invariant types*: screw axis invariants and vector invariants\n",
    "- *measurement data*: poses, screws, vectors\n",
    "- *problem types*: invariants calculation, trajectory generation\n",
    "\n",
    "\n"
   ]
  },
  {
   "cell_type": "code",
   "execution_count": null,
   "id": "56b029be",
   "metadata": {},
   "outputs": [],
   "source": []
  },
  {
   "cell_type": "code",
   "execution_count": null,
   "id": "0283fa2a",
   "metadata": {},
   "outputs": [],
   "source": []
  }
 ],
 "metadata": {
  "@webio": {
   "lastCommId": null,
   "lastKernelId": null
  },
  "kernelspec": {
   "display_name": "Python 3 (ipykernel)",
   "language": "python",
   "name": "python3"
  },
  "language_info": {
   "codemirror_mode": {
    "name": "ipython",
    "version": 3
   },
   "file_extension": ".py",
   "mimetype": "text/x-python",
   "name": "python",
   "nbconvert_exporter": "python",
   "pygments_lexer": "ipython3",
   "version": "3.9.7"
  }
 },
 "nbformat": 4,
 "nbformat_minor": 5
}
